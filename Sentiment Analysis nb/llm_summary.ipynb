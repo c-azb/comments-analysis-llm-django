{
 "cells": [
  {
   "cell_type": "code",
   "execution_count": 1,
   "id": "191faaad",
   "metadata": {},
   "outputs": [],
   "source": [
    "from langchain_ollama import ChatOllama\n",
    "from langchain.prompts import PromptTemplate\n",
    "from langchain_core.output_parsers import StrOutputParser\n",
    "from langchain_core.runnables import RunnableLambda,RunnablePassthrough\n",
    "from langchain.text_splitter import CharacterTextSplitter\n",
    "\n",
    "import re"
   ]
  },
  {
   "cell_type": "code",
   "execution_count": 37,
   "id": "5848571a",
   "metadata": {},
   "outputs": [],
   "source": [
    "llm = ChatOllama(model='llama3.2:3b',base_url='localhost:11434')"
   ]
  },
  {
   "cell_type": "code",
   "execution_count": 7,
   "id": "9c1155ec",
   "metadata": {},
   "outputs": [],
   "source": [
    "separator = '<SEP>'\n",
    "\n",
    "#Receive a string containing comments separated by a separator token\n",
    "def format_comments(x,separator):\n",
    "    x = re.sub(r'(\\s)\\1{2,}',r'\\1',x)\n",
    "    x = re.sub(separator,'\\n\\n',x)\n",
    "    x = re.sub(r'\\n{3,}',r'\\n\\n',x)\n",
    "    return x.strip()\n",
    "\n",
    "#Receive a list of summaries chunks\n",
    "def format_summaries(x,separator):\n",
    "    x = separator.join(x)\n",
    "    return format_comments(x,separator)"
   ]
  },
  {
   "cell_type": "code",
   "execution_count": 39,
   "id": "ca22c9c8",
   "metadata": {},
   "outputs": [],
   "source": [
    "prompt_str = (\n",
    "    \"Summarize {chunk_info} of comments in {complexity} giving a general idea of what all commentts are saying \"\n",
    "    \"highlighting the overall sentiment of the sentences. Don't answer based on individual comments.\\n\"\n",
    "    \"### Comments\\n\"\n",
    "    \"{comments}\\n\"\n",
    "    \"Summary: \"\n",
    ")\n",
    "prompt = PromptTemplate(input_variables=['complexity','comments','chunk_info'],template=prompt_str)"
   ]
  },
  {
   "cell_type": "code",
   "execution_count": 40,
   "id": "87814c53",
   "metadata": {},
   "outputs": [],
   "source": [
    "chain = (\n",
    "    {\n",
    "        'complexity':RunnablePassthrough(),\n",
    "        'comments': RunnableLambda(lambda x: format_comments(x['comments'],x['separator']) ),\n",
    "        'chunk_info':RunnablePassthrough()\n",
    "    }\n",
    "    | prompt \n",
    "    | llm\n",
    "    | StrOutputParser()\n",
    ")"
   ]
  },
  {
   "cell_type": "code",
   "execution_count": 3,
   "id": "686004c1",
   "metadata": {},
   "outputs": [],
   "source": [
    "sample_url = 'https://www.amazon.com/Amazon-Basics-Microphone-Podcasting-Adjustable/dp/B0CL9BTQRF/ref=sr_1_1_ffob_sspa?_encoding=UTF8&content-id=amzn1.sym.edf433e2-b6d4-408e-986d-75239a5ced10&dib=eyJ2IjoiMSJ9.nT6IE53AC-z9ZyNjetcZ9BBtua7z7T6s4YSRLY6LyizSQz852yfNGPCrecJ0bONr3kXwWSWtBwE9Tl72CQhNX5aXnUgky8Aja5-OgXnztkqYv9cVdLD3Qu1t0U33s2X2kwL6SJC8SF0oj-0vyDkuoh-vUa61d-fRchh1Nr-ngKSRuMcbd5IqWc277nEpdchqpA1Q-FdOzuE5nM40X5dC5GYX8c5tL_nStcU3O9z-MDUJAkr1BvJQIlyX1Mu28o-mWX-36wT-Me9osf4q6dWwT7rsgqFqOpG34N4brSLciPc.k1pcqbAx85cWR3KuhYKiMBCuhpLK43RJgorqhr4RZGI&dib_tag=se&keywords=gaming&pd_rd_r=d7d5127a-bac2-41bf-b544-9df9cf821c92&pd_rd_w=GnUzS&pd_rd_wg=BtKp0&qid=1754908078&sr=8-1-spons&sp_csd=d2lkZ2V0TmFtZT1zcF9hdGY&psc=1#averageCustomerReviewsAnchor'"
   ]
  },
  {
   "cell_type": "code",
   "execution_count": null,
   "id": "35577eb8",
   "metadata": {},
   "outputs": [],
   "source": [
    "# import requests\n",
    "# from bs4 import BeautifulSoup\n",
    "# response = requests.get(sample_url)\n",
    "# html_content = response.text\n",
    "# soup = BeautifulSoup(html_content,'lxml')\n",
    "# res = soup.find('ul', {'id':'cm-cr-dp-review-list'})"
   ]
  },
  {
   "cell_type": "code",
   "execution_count": 4,
   "id": "ab6cb2d7",
   "metadata": {},
   "outputs": [
    {
     "data": {
      "text/plain": [
       "1"
      ]
     },
     "execution_count": 4,
     "metadata": {},
     "output_type": "execute_result"
    }
   ],
   "source": [
    "from langchain.document_loaders import WebBaseLoader #UnstructuredURLLoader\n",
    "import bs4\n",
    "web_loader = WebBaseLoader(sample_url,\n",
    "                       bs_kwargs=dict(parse_only=bs4.SoupStrainer(\n",
    "                           'ul',\n",
    "                           id='cm-cr-dp-review-list'\n",
    "                       )))\n",
    "doc = web_loader.load()\n",
    "len(doc)"
   ]
  },
  {
   "cell_type": "code",
   "execution_count": 8,
   "id": "97c6ccc2",
   "metadata": {},
   "outputs": [],
   "source": [
    "#Formatting comments for chain\n",
    "# comments = ''' Great product! <SEP> It could be better... '''\n",
    "page_content = doc[0].page_content\n",
    "comments = separator.join(page_content.split('Helpful\\n\\n\\nReport\\n\\n\\n'))\n",
    "comments = re.sub(r'Helpful[\\n]+Report[\\n]+','',comments)\n",
    "comments = re.sub(r'Read more','',comments)\n",
    "with open('amazon_comments.txt','w') as f:\n",
    "    f.write(comments)\n",
    "#comments = comments.replace('Helpful\\n\\n\\nReport\\n','')"
   ]
  },
  {
   "cell_type": "code",
   "execution_count": 43,
   "id": "227c4299",
   "metadata": {},
   "outputs": [
    {
     "data": {
      "text/plain": [
       "3"
      ]
     },
     "execution_count": 43,
     "metadata": {},
     "output_type": "execute_result"
    }
   ],
   "source": [
    "splitter = CharacterTextSplitter(separator=separator,chunk_size=2000,chunk_overlap=0)\n",
    "chunks = splitter.split_text(comments)\n",
    "len(chunks)"
   ]
  },
  {
   "cell_type": "code",
   "execution_count": 44,
   "id": "316cc683",
   "metadata": {},
   "outputs": [
    {
     "name": "stdout",
     "output_type": "stream",
     "text": [
      "Gregory Dahl5.0 out of 5 stars\n",
      "Great and Professional Looking Microphone!\n",
      "Reviewed in the United States on July 8, 2025Verified Purchase\n",
      "\n",
      "\n",
      "There is a plethora of USB Microphones on the market. Even though I do not create YouTube videos, I made the right choice to utilize a professional microphone that sounds like I am in the same room. I have tuned it utilizing Microsoft Windows Sound Settings and the clarity is fantastic. It makes my Microsoft Teams experience great.\n",
      "\n",
      "2 people found this helpful\n",
      "\n",
      "\n",
      "              <SEP>Zach Johnson5.0 out of 5 stars\n",
      "Perfect for starters.\n",
      "Reviewed in the United States on July 30, 2025Verified Purchase\n",
      "Fantastic sound quality, fantastic price point. If youâ€™re just looking to try out audio recording, streaming, podcast, etc. This is the mic to buy. Low investment cost with great sound, can attach to armatures, itâ€™s a great option for starting out or for some seasoned users needing a backup option. Highly recommend.\n",
      "\n",
      "\n",
      "\n",
      "\n",
      "              <SEP>Sean5.0 out of 5 stars\n",
      "Nice quality, basic mic.\n",
      "Reviewed in the United States on October 18, 2024Verified Purchase\n",
      "I'd had a USB mic that this replaced; the old one worked fine but had a USB-B socket on it and the slightest bump might disconnect the USB and cause problems with the app I was using. I got this one just to get USB-C, and it's working great! It doesn't have any extra bells or whistles - no gain control, no noise reduction, etc - just a single pushbutton for mute. But that's all I need. Threaded onto my existing boom and replaced the USB-B cord with a USB-C cord, and I'm back in business.It comes with a weighted base and a USB cord, both of which are now cluttering my junk drawer. Personally I'd prefer to buy a mic as a \"Component\" and not as a system, but I understand not everyone would want that. Nothing deducted from the score on that count, but it WOULD be less wasteful.\n",
      "\n",
      "4 people found this helpful\n"
     ]
    }
   ],
   "source": [
    "print(chunks[0])"
   ]
  },
  {
   "cell_type": "code",
   "execution_count": 45,
   "id": "e410b6d8",
   "metadata": {},
   "outputs": [
    {
     "data": {
      "text/plain": [
       "PromptTemplate(input_variables=['chunk_info', 'comments', 'complexity'], input_types={}, partial_variables={}, template=\"Summarize {chunk_info} of comments in {complexity} giving a general idea of what all commentts are saying highlighting the overall sentiment of the sentences. Don't answer based on individual comments.\\n### Comments\\n{comments}\\nSummary: \")"
      ]
     },
     "execution_count": 45,
     "metadata": {},
     "output_type": "execute_result"
    }
   ],
   "source": [
    "prompt"
   ]
  },
  {
   "cell_type": "code",
   "execution_count": 46,
   "id": "572bdd3b",
   "metadata": {},
   "outputs": [],
   "source": [
    "chunks_summaries = []\n",
    "for i,chunk in enumerate(chunks):\n",
    "    chunk_info = f'the chunk {i+1} of {len(chunks)} ' if len(chunks) > 1 else 'a sequence'\n",
    "    chunks_summaries.append(\n",
    "        chain.invoke({'complexity':'one short paragraph',\n",
    "                      'comments': chunk, \n",
    "                      'separator':separator,\n",
    "                       'chunk_info':chunk_info }))"
   ]
  },
  {
   "cell_type": "code",
   "execution_count": null,
   "id": "bea13ff4",
   "metadata": {},
   "outputs": [],
   "source": [
    "prompt2_str = (\n",
    "    \"The following texts are summaries of different comments of the same subject. \" \\\n",
    "    \"From this summaries provide a final summary based on all of them. Answer ONLY the final summary\\n\" \\\n",
    "    \"### Summaries:\\n\" \\\n",
    "    \"{summaries}\" \\\n",
    "    \"\\nFinal Summary: \"\n",
    ")\n",
    "prompt2 = PromptTemplate(input_variables=['summaries'],template=prompt2_str)"
   ]
  },
  {
   "cell_type": "code",
   "execution_count": 49,
   "id": "76a2d400",
   "metadata": {},
   "outputs": [],
   "source": [
    "chain2 = (\n",
    "    {'summaries':RunnableLambda(lambda x: format_summaries(x['summaries'],x['separator']))}\n",
    "    | prompt2\n",
    "    | llm\n",
    "    | StrOutputParser()\n",
    ")"
   ]
  },
  {
   "cell_type": "code",
   "execution_count": 50,
   "id": "dd084d4c",
   "metadata": {},
   "outputs": [],
   "source": [
    "final_summary = chain2.invoke( {'summaries':chunks_summaries,'separator':separator} )"
   ]
  },
  {
   "cell_type": "code",
   "execution_count": 51,
   "id": "e78aca80",
   "metadata": {},
   "outputs": [
    {
     "name": "stdout",
     "output_type": "stream",
     "text": [
      "The microphone has received overwhelmingly positive reviews for its professional sound quality, ease of use, and affordability, with many praising its clarity, simplicity, and value. While some reviewers mention minor drawbacks such as the lack of extra features, these are largely outweighed by the microphone's strengths. The majority of comments highlight the microphone's good performance in meeting basic needs, including improved speech clarity and intelligibility, making it a solid choice for various applications, including gaming and voice-overs, at an affordable price.\n"
     ]
    }
   ],
   "source": [
    "print(final_summary)"
   ]
  },
  {
   "cell_type": "code",
   "execution_count": null,
   "id": "40da7a90",
   "metadata": {},
   "outputs": [],
   "source": []
  }
 ],
 "metadata": {
  "kernelspec": {
   "display_name": "ml_web_env",
   "language": "python",
   "name": "python3"
  },
  "language_info": {
   "codemirror_mode": {
    "name": "ipython",
    "version": 3
   },
   "file_extension": ".py",
   "mimetype": "text/x-python",
   "name": "python",
   "nbconvert_exporter": "python",
   "pygments_lexer": "ipython3",
   "version": "3.11.13"
  }
 },
 "nbformat": 4,
 "nbformat_minor": 5
}
